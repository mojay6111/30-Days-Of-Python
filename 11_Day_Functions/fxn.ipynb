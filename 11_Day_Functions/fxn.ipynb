{
 "cells": [
  {
   "cell_type": "code",
   "execution_count": 1,
   "id": "1a3919fa",
   "metadata": {},
   "outputs": [],
   "source": [
    "def generate_full_name ():\n",
    "    first_name = 'Asabeneh'\n",
    "    last_name = 'Yetayeh'\n",
    "    space = ' '\n",
    "    full_name = first_name + space + last_name\n",
    "    print(full_name)\n"
   ]
  },
  {
   "cell_type": "code",
   "execution_count": 2,
   "id": "14aa202a",
   "metadata": {},
   "outputs": [
    {
     "name": "stdout",
     "output_type": "stream",
     "text": [
      "Asabeneh Yetayeh\n"
     ]
    }
   ],
   "source": [
    "generate_full_name () # calling a function"
   ]
  },
  {
   "cell_type": "code",
   "execution_count": 3,
   "id": "a3ef3d59",
   "metadata": {},
   "outputs": [],
   "source": [
    "def add_two_numbers ():\n",
    "    num_one = 2\n",
    "    num_two = 3\n",
    "    total = num_one + num_two\n",
    "    print(total)\n"
   ]
  },
  {
   "cell_type": "code",
   "execution_count": 4,
   "id": "9eb35f4c",
   "metadata": {},
   "outputs": [
    {
     "name": "stdout",
     "output_type": "stream",
     "text": [
      "5\n"
     ]
    }
   ],
   "source": [
    "add_two_numbers()"
   ]
  },
  {
   "cell_type": "code",
   "execution_count": 6,
   "id": "76982ff3",
   "metadata": {},
   "outputs": [],
   "source": [
    "def generate_full_name ():\n",
    "    first_name = 'Asabeneh'\n",
    "    last_name = 'Yetayeh'\n",
    "    space = ' '\n",
    "    full_name = first_name + space + last_name\n",
    "    return full_name\n"
   ]
  },
  {
   "cell_type": "code",
   "execution_count": 7,
   "id": "733ab322",
   "metadata": {},
   "outputs": [
    {
     "name": "stdout",
     "output_type": "stream",
     "text": [
      "Asabeneh Yetayeh\n"
     ]
    }
   ],
   "source": [
    "print(generate_full_name())"
   ]
  },
  {
   "cell_type": "code",
   "execution_count": 8,
   "id": "945b4d7b",
   "metadata": {},
   "outputs": [],
   "source": [
    "def greetings (name):\n",
    "    message = name + ', welcome to Python for Everyone!'\n",
    "    return message\n"
   ]
  },
  {
   "cell_type": "code",
   "execution_count": 9,
   "id": "243cbb8d",
   "metadata": {},
   "outputs": [
    {
     "name": "stdout",
     "output_type": "stream",
     "text": [
      "Asabeneh, welcome to Python for Everyone!\n"
     ]
    }
   ],
   "source": [
    "print(greetings('Asabeneh'))\n"
   ]
  },
  {
   "cell_type": "code",
   "execution_count": 15,
   "id": "d44f636d",
   "metadata": {},
   "outputs": [],
   "source": [
    "def square_number(x):\n",
    "    return x * x"
   ]
  },
  {
   "cell_type": "code",
   "execution_count": 16,
   "id": "68b9c6df",
   "metadata": {},
   "outputs": [
    {
     "name": "stdout",
     "output_type": "stream",
     "text": [
      "4\n"
     ]
    }
   ],
   "source": [
    "print(square_number(2))"
   ]
  },
  {
   "cell_type": "code",
   "execution_count": 17,
   "id": "a6360c66",
   "metadata": {},
   "outputs": [],
   "source": [
    "def generate_full_name (first_name, last_name):\n",
    "    space = ' '\n",
    "    full_name = first_name + space + last_name\n",
    "    return full_name\n"
   ]
  },
  {
   "cell_type": "code",
   "execution_count": 18,
   "id": "9110fea1",
   "metadata": {},
   "outputs": [
    {
     "name": "stdout",
     "output_type": "stream",
     "text": [
      "Full Name:  Asabeneh Yetayeh\n"
     ]
    }
   ],
   "source": [
    "print('Full Name: ', generate_full_name('Asabeneh','Yetayeh'))"
   ]
  },
  {
   "cell_type": "code",
   "execution_count": 19,
   "id": "3bdbaea6",
   "metadata": {},
   "outputs": [],
   "source": [
    "def weight_of_object (mass, gravity):\n",
    "    weight = str(mass * gravity)+ ' N' # the value has to be changed to a string first\n",
    "    return weight\n"
   ]
  },
  {
   "cell_type": "code",
   "execution_count": 20,
   "id": "574bcd04",
   "metadata": {},
   "outputs": [
    {
     "name": "stdout",
     "output_type": "stream",
     "text": [
      "Weight of an object in Newtons:  981.0 N\n"
     ]
    }
   ],
   "source": [
    "print('Weight of an object in Newtons: ', weight_of_object(100, 9.81))"
   ]
  },
  {
   "cell_type": "code",
   "execution_count": 21,
   "id": "0d884d08",
   "metadata": {},
   "outputs": [
    {
     "name": "stdout",
     "output_type": "stream",
     "text": [
      "Asabeneh Yetayeh\n",
      "None\n"
     ]
    }
   ],
   "source": [
    "def print_fullname(firstname, lastname):\n",
    "    space = ' '\n",
    "    full_name = firstname  + space + lastname\n",
    "    print(full_name)\n",
    "print(print_fullname(firstname = 'Asabeneh', lastname = 'Yetayeh'))"
   ]
  },
  {
   "cell_type": "code",
   "execution_count": 23,
   "id": "cebe22fd",
   "metadata": {},
   "outputs": [
    {
     "data": {
      "text/plain": [
       "'Asabeneh Yetayeh'"
      ]
     },
     "execution_count": 23,
     "metadata": {},
     "output_type": "execute_result"
    }
   ],
   "source": [
    "def print_name(firstname):\n",
    "    return firstname\n",
    "print_name('Asabeneh') # Asabeneh\n",
    "\n",
    "def print_full_name(firstname, lastname):\n",
    "    space = ' '\n",
    "    full_name = firstname  + space + lastname\n",
    "    return full_name\n",
    "print_full_name(firstname='Asabeneh', lastname='Yetayeh')"
   ]
  },
  {
   "cell_type": "code",
   "execution_count": 24,
   "id": "4de6e1bc",
   "metadata": {},
   "outputs": [
    {
     "name": "stdout",
     "output_type": "stream",
     "text": [
      "5\n"
     ]
    }
   ],
   "source": [
    "def add_two_numbers (num1, num2):\n",
    "    total = num1 + num2\n",
    "    return total\n",
    "print(add_two_numbers(2, 3))\n",
    "\n",
    "\n"
   ]
  },
  {
   "cell_type": "code",
   "execution_count": 25,
   "id": "7c9cf2b8",
   "metadata": {},
   "outputs": [
    {
     "name": "stdout",
     "output_type": "stream",
     "text": [
      "Age:  200\n"
     ]
    }
   ],
   "source": [
    "def calculate_age (current_year, birth_year):\n",
    "    age = current_year - birth_year\n",
    "    return age;\n",
    "print('Age: ', calculate_age(2019, 1819))"
   ]
  },
  {
   "cell_type": "code",
   "execution_count": 26,
   "id": "a5021fa5",
   "metadata": {},
   "outputs": [
    {
     "name": "stdout",
     "output_type": "stream",
     "text": [
      "even\n",
      "True\n",
      "False\n"
     ]
    }
   ],
   "source": [
    "def is_even (n):\n",
    "    if n % 2 == 0:\n",
    "        print('even')\n",
    "        return True    # return stops further execution of the function, similar to break \n",
    "    return False\n",
    "print(is_even(10)) # True\n",
    "print(is_even(7)) # False"
   ]
  },
  {
   "cell_type": "code",
   "execution_count": 28,
   "id": "cad36679",
   "metadata": {},
   "outputs": [
    {
     "name": "stdout",
     "output_type": "stream",
     "text": [
      "[0, 2, 4, 6, 8, 10, 12, 14, 16, 18, 20]\n"
     ]
    }
   ],
   "source": [
    "def find_even_numbers(n):\n",
    "    evens = []\n",
    "    for i in range(n + 1):\n",
    "        if i % 2 == 0:\n",
    "            evens.append(i)\n",
    "    return evens\n",
    "print(find_even_numbers(20))"
   ]
  },
  {
   "cell_type": "code",
   "execution_count": 29,
   "id": "b90e38d3",
   "metadata": {},
   "outputs": [
    {
     "name": "stdout",
     "output_type": "stream",
     "text": [
      "Peter, welcome to Python for Everyone!\n",
      "Asabeneh, welcome to Python for Everyone!\n"
     ]
    }
   ],
   "source": [
    "def greetings (name = 'Peter'):\n",
    "    message = name + ', welcome to Python for Everyone!'\n",
    "    return message\n",
    "print(greetings())\n",
    "print(greetings('Asabeneh'))"
   ]
  },
  {
   "cell_type": "code",
   "execution_count": 30,
   "id": "5595231a",
   "metadata": {},
   "outputs": [
    {
     "name": "stdout",
     "output_type": "stream",
     "text": [
      "Weight of an object in Newtons:  981.0 N\n",
      "Weight of an object in Newtons:  162.0 N\n"
     ]
    }
   ],
   "source": [
    "def weight_of_object (mass, gravity = 9.81):\n",
    "    weight = str(mass * gravity)+ ' N' # the value has to be changed to string first\n",
    "    return weight\n",
    "print('Weight of an object in Newtons: ', weight_of_object(100)) # 9.81 - average gravity on Earth's surface\n",
    "print('Weight of an object in Newtons: ', weight_of_object(100, 1.62)) # gravity on the surface of the Moon"
   ]
  },
  {
   "cell_type": "code",
   "execution_count": 32,
   "id": "c86072df",
   "metadata": {},
   "outputs": [
    {
     "name": "stdout",
     "output_type": "stream",
     "text": [
      "22\n"
     ]
    }
   ],
   "source": [
    "def sum_all_nums(*nums):\n",
    "    total = 0\n",
    "    for num in nums:\n",
    "        total += num     # same as total = total + num \n",
    "    return total\n",
    "print(sum_all_nums(2, 3, 5, 7, 5)) # 10"
   ]
  },
  {
   "cell_type": "code",
   "execution_count": 34,
   "id": "805ffceb",
   "metadata": {},
   "outputs": [
    {
     "name": "stdout",
     "output_type": "stream",
     "text": [
      "9\n"
     ]
    }
   ],
   "source": [
    "#You can pass functions around as parameters\n",
    "def square_number (n):\n",
    "    return n * n\n",
    "def do_something(f, x):\n",
    "    return f(x)\n",
    "print(do_something(square_number, 3)) # 27"
   ]
  },
  {
   "cell_type": "code",
   "execution_count": null,
   "id": "761e5ce1",
   "metadata": {},
   "outputs": [],
   "source": []
  }
 ],
 "metadata": {
  "kernelspec": {
   "display_name": "myenv",
   "language": "python",
   "name": "python3"
  },
  "language_info": {
   "codemirror_mode": {
    "name": "ipython",
    "version": 3
   },
   "file_extension": ".py",
   "mimetype": "text/x-python",
   "name": "python",
   "nbconvert_exporter": "python",
   "pygments_lexer": "ipython3",
   "version": "3.9.21"
  }
 },
 "nbformat": 4,
 "nbformat_minor": 5
}
