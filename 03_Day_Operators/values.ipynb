{
 "cells": [
  {
   "cell_type": "markdown",
   "id": "0a06ced8",
   "metadata": {},
   "source": [
    "# **Declaring values and organizing them together**\n",
    "\n",
    "* We can declare values and organize them together using the `data` keyword."
   ]
  },
  {
   "cell_type": "code",
   "execution_count": 2,
   "id": "279a5025",
   "metadata": {},
   "outputs": [],
   "source": [
    "data = {\n",
    "    \"name\": \"John\",\n",
    "    \"age\": 30,\n",
    "    \"city\": \"New York\"\n",
    "    }\n",
    "    "
   ]
  },
  {
   "cell_type": "markdown",
   "id": "f6811781",
   "metadata": {},
   "source": [
    "# **Accessing values**\n",
    "- We can access values using the `key` of the value we want to access."
   ]
  },
  {
   "cell_type": "code",
   "execution_count": 3,
   "id": "b30e2ff7",
   "metadata": {},
   "outputs": [
    {
     "name": "stdout",
     "output_type": "stream",
     "text": [
      "John\n",
      "30\n",
      "New York\n"
     ]
    }
   ],
   "source": [
    "print(data[\"name\"])  # Output: John\n",
    "print(data[\"age\"])  # Output: 30\n",
    "print(data[\"city\"])  # Output: New York"
   ]
  },
  {
   "cell_type": "markdown",
   "id": "e31deeb7",
   "metadata": {},
   "source": [
    "# **Adding new values**\n",
    "- We can add new values using the `key` of the value we want to add."
   ]
  },
  {
   "cell_type": "code",
   "execution_count": 4,
   "id": "f44fa07d",
   "metadata": {},
   "outputs": [
    {
     "name": "stdout",
     "output_type": "stream",
     "text": [
      "{'name': 'John', 'age': 30, 'city': 'New York', 'country': 'USA'}\n"
     ]
    }
   ],
   "source": [
    "data[\"country\"] = \"USA\"\n",
    "print(data)  # Output: {'name': 'John', 'age': 30, 'city': 'New York', 'country': 'USA'}"
   ]
  },
  {
   "cell_type": "markdown",
   "id": "2d055786",
   "metadata": {},
   "source": [
    "# **Updating existing values**\n",
    "- We can update existing values using the `key` of the value we want to update."
   ]
  },
  {
   "cell_type": "code",
   "execution_count": 5,
   "id": "03f78994",
   "metadata": {},
   "outputs": [
    {
     "name": "stdout",
     "output_type": "stream",
     "text": [
      "{'name': 'John', 'age': 31, 'city': 'New York', 'country': 'USA'}\n"
     ]
    }
   ],
   "source": [
    "data[\"age\"] = 31\n",
    "print(data)  # Output: {'name': 'John', 'age': 31, 'city': 'New York', 'country': 'USA'}"
   ]
  },
  {
   "cell_type": "markdown",
   "id": "fe5b9da7",
   "metadata": {},
   "source": [
    "# **Removing values**\n",
    "- We can remove values using the `del` keyword."
   ]
  },
  {
   "cell_type": "code",
   "execution_count": 6,
   "id": "5282a503",
   "metadata": {},
   "outputs": [
    {
     "name": "stdout",
     "output_type": "stream",
     "text": [
      "{'name': 'John', 'age': 31, 'country': 'USA'}\n"
     ]
    }
   ],
   "source": [
    "del data[\"city\"]\n",
    "print(data)  # Output: {'name': 'John', 'age': 31, 'country': 'USA'}"
   ]
  },
  {
   "cell_type": "markdown",
   "id": "3a2041fc",
   "metadata": {},
   "source": [
    "# **Checking if a key exists**\n",
    "- We can check if a key exists using the `in` keyword."
   ]
  },
  {
   "cell_type": "code",
   "execution_count": 7,
   "id": "9b786ff4",
   "metadata": {},
   "outputs": [
    {
     "name": "stdout",
     "output_type": "stream",
     "text": [
      "True\n",
      "False\n"
     ]
    }
   ],
   "source": [
    "print(\"name\" in data)  # Output: True\n",
    "print(\"city\" in data)  # Output: False"
   ]
  },
  {
   "cell_type": "markdown",
   "id": "b35385b6",
   "metadata": {},
   "source": [
    "# **Iterating over a dictionary**\n",
    "- We can iterate over a dictionary using a `for` loop."
   ]
  },
  {
   "cell_type": "code",
   "execution_count": 13,
   "id": "40b734bc",
   "metadata": {},
   "outputs": [
    {
     "name": "stdout",
     "output_type": "stream",
     "text": [
      "name: John\n",
      "age: 31\n",
      "country: USA\n"
     ]
    }
   ],
   "source": [
    "for key, value in data.items():\n",
    "    print(f\"{key}: {value}\")  # Output: name: John, age: 31, country: USA\n",
    "# for key in data:\n",
    "#     print(key)  # Output: name, age, country\n",
    "# print(len(data))  # Output: 3\n",
    "# print(data.get(\"name\"))  # Output: John\n",
    "# print(data.get(\"city\", \"Not Found\"))  # Output: Not Found\n",
    "# print(data.keys())  # Output: dict_keys(['name', 'age', 'country'])\n",
    "# print(data.values())  # Output: dict_values(['John', 31, 'USA'])\n",
    "# print(data.items())  # Output: dict_items([('name', 'John'), ('age', 31), ('country', 'USA')])"
   ]
  },
  {
   "cell_type": "markdown",
   "id": "df51f03f",
   "metadata": {},
   "source": [
    "# **Using the `get` method**\n",
    "- We can use the `get` method to access values without raising a `KeyError` if the key does not exist."
   ]
  },
  {
   "cell_type": "code",
   "execution_count": 14,
   "id": "0a990812",
   "metadata": {},
   "outputs": [
    {
     "name": "stdout",
     "output_type": "stream",
     "text": [
      "John\n",
      "None\n"
     ]
    }
   ],
   "source": [
    "print(data.get(\"name\"))  # Output: John\n",
    "print(data.get(\"city\"))  # Output: None"
   ]
  },
  {
   "cell_type": "markdown",
   "id": "184f8884",
   "metadata": {},
   "source": [
    "# **Using the `setdefault` method**\n",
    "- We can use the `setdefault` method to set a default value if the key does not exist in the dictionary."
   ]
  },
  {
   "cell_type": "code",
   "execution_count": 15,
   "id": "ad5cff9f",
   "metadata": {},
   "outputs": [
    {
     "name": "stdout",
     "output_type": "stream",
     "text": [
      "John\n",
      "London\n"
     ]
    }
   ],
   "source": [
    "print(data.setdefault(\"name\"))  # Output: John\n",
    "print(data.setdefault(\"city\", \"London\"))  # Output: London"
   ]
  },
  {
   "cell_type": "markdown",
   "id": "5c444ffe",
   "metadata": {},
   "source": [
    "# **Using the `update` method**\n",
    "- We can use the `update` method to update a dictionary with another dictionary."
   ]
  },
  {
   "cell_type": "code",
   "execution_count": 16,
   "id": "64f93f35",
   "metadata": {},
   "outputs": [
    {
     "name": "stdout",
     "output_type": "stream",
     "text": [
      "{'name': 'John', 'age': 31, 'country': 'USA', 'city': 'London', 'state': 'New York'}\n"
     ]
    }
   ],
   "source": [
    "data.update({\"country\": \"USA\", \"state\": \"New York\"})\n",
    "print(data)  # Output: {'name': 'John', 'age': 31,  'country': 'USA', 'state': 'New York'}"
   ]
  },
  {
   "cell_type": "markdown",
   "id": "576837e0",
   "metadata": {},
   "source": [
    "# **Using the `pop` method**\n",
    "- We can use the `pop` method to remove a key-value pair from a dictionary."
   ]
  },
  {
   "cell_type": "code",
   "execution_count": 17,
   "id": "9cd9787b",
   "metadata": {},
   "outputs": [
    {
     "name": "stdout",
     "output_type": "stream",
     "text": [
      "{'name': 'John', 'country': 'USA', 'city': 'London', 'state': 'New York'}\n"
     ]
    }
   ],
   "source": [
    "data.pop(\"age\")\n",
    "print(data)  # Output: {'name': 'John', 'country': 'USA', 'state': 'New York'}"
   ]
  }
 ],
 "metadata": {
  "kernelspec": {
   "display_name": "myenv",
   "language": "python",
   "name": "python3"
  },
  "language_info": {
   "codemirror_mode": {
    "name": "ipython",
    "version": 3
   },
   "file_extension": ".py",
   "mimetype": "text/x-python",
   "name": "python",
   "nbconvert_exporter": "python",
   "pygments_lexer": "ipython3",
   "version": "3.9.21"
  }
 },
 "nbformat": 4,
 "nbformat_minor": 5
}
